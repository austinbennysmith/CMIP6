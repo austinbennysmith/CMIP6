{
  "nbformat": 4,
  "nbformat_minor": 0,
  "metadata": {
    "colab": {
      "name": "Bootstrapping_ConfidenceIntervals.ipynb",
      "provenance": [],
      "authorship_tag": "ABX9TyPOvnGBkwtzY5lPviZLmBcY",
      "include_colab_link": true
    },
    "kernelspec": {
      "name": "python3",
      "display_name": "Python 3"
    }
  },
  "cells": [
    {
      "cell_type": "markdown",
      "metadata": {
        "id": "view-in-github",
        "colab_type": "text"
      },
      "source": [
        "<a href=\"https://colab.research.google.com/github/austinbennysmith/CMIP6/blob/main/Bootstrapping_ConfidenceIntervals.ipynb\" target=\"_parent\"><img src=\"https://colab.research.google.com/assets/colab-badge.svg\" alt=\"Open In Colab\"/></a>"
      ]
    },
    {
      "cell_type": "markdown",
      "metadata": {
        "id": "hRUKTUjg7TiN"
      },
      "source": [
        "Basics of how to do bootstrapping in python"
      ]
    },
    {
      "cell_type": "code",
      "metadata": {
        "colab": {
          "base_uri": "https://localhost:8080/",
          "height": 282
        },
        "id": "GsJ3IsUf0Bhj",
        "outputId": "d04967e4-6454-4183-cefb-d32f5d81ca35"
      },
      "source": [
        "import numpy as np\n",
        "import matplotlib.pyplot as plt\n",
        "np.random.seed(33)\n",
        "pickups = np.random.randint(0, 500, size=100)\n",
        "sample_props = []\n",
        "for i in range(10000):\n",
        "  sample = np.random.choice(pickups, size=30)\n",
        "  sample_props.append(sample.mean())\n",
        "std = np.std(sample_props)\n",
        "plt.hist(sample_props)\n",
        "plt.axvline(np.mean(sample_props+2*std), color='r')\n",
        "plt.axvline(np.mean(sample_props)-2*std, color='r')"
      ],
      "execution_count": null,
      "outputs": [
        {
          "output_type": "execute_result",
          "data": {
            "text/plain": [
              "<matplotlib.lines.Line2D at 0x7fa5bb9c8b38>"
            ]
          },
          "metadata": {
            "tags": []
          },
          "execution_count": 14
        },
        {
          "output_type": "display_data",
          "data": {
            "image/png": "[encoded data removed]",
            "text/plain": [
              "<Figure size 432x288 with 1 Axes>"
            ]
          },
          "metadata": {
            "tags": [],
            "needs_background": "light"
          }
        }
      ]
    },
    {
      "cell_type": "code",
      "metadata": {
        "id": "0eBzwTrj0HX8"
      },
      "source": [
        "from sklearn.utils import resample\n",
        "data = [0.1, 0.2, 0.3, 0.4, 0.5, 0.6]\n",
        "# np.random.seed(33)\n",
        "# pickups = np.random.randint(0, 500, size=100)\n",
        "for i in range(10):\n",
        "  boot = resample(data, replace=True, n_samples=len(data), random_state=1)\n",
        "  print('Bootstrap Sample: %s' % boot)\n"
      ],
      "execution_count": null,
      "outputs": []
    }
  ]
}